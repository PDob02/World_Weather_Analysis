{
 "cells": [
  {
   "cell_type": "code",
   "execution_count": 1,
   "id": "ab48953f",
   "metadata": {},
   "outputs": [],
   "source": [
    "# Import the dependencies.\n",
    "import pandas as pd\n",
    "import gmaps\n",
    "import requests\n",
    "# Import the API key.\n",
    "from config import g_key"
   ]
  },
  {
   "cell_type": "code",
   "execution_count": 2,
   "id": "8ebc97bb",
   "metadata": {},
   "outputs": [
    {
     "data": {
      "text/html": [
       "<div>\n",
       "<style scoped>\n",
       "    .dataframe tbody tr th:only-of-type {\n",
       "        vertical-align: middle;\n",
       "    }\n",
       "\n",
       "    .dataframe tbody tr th {\n",
       "        vertical-align: top;\n",
       "    }\n",
       "\n",
       "    .dataframe thead th {\n",
       "        text-align: right;\n",
       "    }\n",
       "</style>\n",
       "<table border=\"1\" class=\"dataframe\">\n",
       "  <thead>\n",
       "    <tr style=\"text-align: right;\">\n",
       "      <th></th>\n",
       "      <th>City_ID</th>\n",
       "      <th>City</th>\n",
       "      <th>Country</th>\n",
       "      <th>Date</th>\n",
       "      <th>Lat</th>\n",
       "      <th>Lng</th>\n",
       "      <th>Max Temp</th>\n",
       "      <th>Humidity</th>\n",
       "      <th>Cloudiness</th>\n",
       "      <th>Wind Speed</th>\n",
       "    </tr>\n",
       "  </thead>\n",
       "  <tbody>\n",
       "    <tr>\n",
       "      <th>0</th>\n",
       "      <td>0</td>\n",
       "      <td>Thompson</td>\n",
       "      <td>CA</td>\n",
       "      <td>2022-01-29 06:34:34</td>\n",
       "      <td>55.7435</td>\n",
       "      <td>-97.8558</td>\n",
       "      <td>-5.64</td>\n",
       "      <td>77</td>\n",
       "      <td>100</td>\n",
       "      <td>0.00</td>\n",
       "    </tr>\n",
       "    <tr>\n",
       "      <th>1</th>\n",
       "      <td>1</td>\n",
       "      <td>Nakasongola</td>\n",
       "      <td>UG</td>\n",
       "      <td>2022-01-29 06:34:34</td>\n",
       "      <td>1.3089</td>\n",
       "      <td>32.4564</td>\n",
       "      <td>83.05</td>\n",
       "      <td>23</td>\n",
       "      <td>21</td>\n",
       "      <td>8.77</td>\n",
       "    </tr>\n",
       "    <tr>\n",
       "      <th>2</th>\n",
       "      <td>2</td>\n",
       "      <td>Cape Town</td>\n",
       "      <td>ZA</td>\n",
       "      <td>2022-01-29 06:33:15</td>\n",
       "      <td>-33.9258</td>\n",
       "      <td>18.4232</td>\n",
       "      <td>71.11</td>\n",
       "      <td>62</td>\n",
       "      <td>0</td>\n",
       "      <td>3.00</td>\n",
       "    </tr>\n",
       "    <tr>\n",
       "      <th>3</th>\n",
       "      <td>3</td>\n",
       "      <td>Kavaratti</td>\n",
       "      <td>IN</td>\n",
       "      <td>2022-01-29 06:34:35</td>\n",
       "      <td>10.5669</td>\n",
       "      <td>72.6420</td>\n",
       "      <td>80.87</td>\n",
       "      <td>70</td>\n",
       "      <td>6</td>\n",
       "      <td>7.61</td>\n",
       "    </tr>\n",
       "    <tr>\n",
       "      <th>4</th>\n",
       "      <td>4</td>\n",
       "      <td>Port Alfred</td>\n",
       "      <td>ZA</td>\n",
       "      <td>2022-01-29 06:34:35</td>\n",
       "      <td>-33.5906</td>\n",
       "      <td>26.8910</td>\n",
       "      <td>70.27</td>\n",
       "      <td>70</td>\n",
       "      <td>59</td>\n",
       "      <td>4.72</td>\n",
       "    </tr>\n",
       "  </tbody>\n",
       "</table>\n",
       "</div>"
      ],
      "text/plain": [
       "   City_ID         City Country                 Date      Lat      Lng  \\\n",
       "0        0     Thompson      CA  2022-01-29 06:34:34  55.7435 -97.8558   \n",
       "1        1  Nakasongola      UG  2022-01-29 06:34:34   1.3089  32.4564   \n",
       "2        2    Cape Town      ZA  2022-01-29 06:33:15 -33.9258  18.4232   \n",
       "3        3    Kavaratti      IN  2022-01-29 06:34:35  10.5669  72.6420   \n",
       "4        4  Port Alfred      ZA  2022-01-29 06:34:35 -33.5906  26.8910   \n",
       "\n",
       "   Max Temp  Humidity  Cloudiness  Wind Speed  \n",
       "0     -5.64        77         100        0.00  \n",
       "1     83.05        23          21        8.77  \n",
       "2     71.11        62           0        3.00  \n",
       "3     80.87        70           6        7.61  \n",
       "4     70.27        70          59        4.72  "
      ]
     },
     "execution_count": 2,
     "metadata": {},
     "output_type": "execute_result"
    }
   ],
   "source": [
    "# Store the CSV you saved created in part one into a DataFrame.\n",
    "city_data_df = pd.read_csv(\"weather_data/cities.csv\")\n",
    "city_data_df.head()"
   ]
  },
  {
   "cell_type": "code",
   "execution_count": 3,
   "id": "5cf4d166",
   "metadata": {},
   "outputs": [
    {
     "data": {
      "text/plain": [
       "City_ID         int64\n",
       "City           object\n",
       "Country        object\n",
       "Date           object\n",
       "Lat           float64\n",
       "Lng           float64\n",
       "Max Temp      float64\n",
       "Humidity        int64\n",
       "Cloudiness      int64\n",
       "Wind Speed    float64\n",
       "dtype: object"
      ]
     },
     "execution_count": 3,
     "metadata": {},
     "output_type": "execute_result"
    }
   ],
   "source": [
    "city_data_df.dtypes"
   ]
  },
  {
   "cell_type": "code",
   "execution_count": 4,
   "id": "97ddb444",
   "metadata": {},
   "outputs": [],
   "source": [
    "# Configure gmaps to use your Google API key.\n",
    "gmaps.configure(api_key=g_key)"
   ]
  },
  {
   "cell_type": "code",
   "execution_count": 5,
   "id": "971f5d26",
   "metadata": {},
   "outputs": [
    {
     "ename": "SyntaxError",
     "evalue": "invalid syntax (Temp/ipykernel_15500/3185543972.py, line 4)",
     "output_type": "error",
     "traceback": [
      "\u001b[1;36m  File \u001b[1;32m\"C:\\Users\\patri\\AppData\\Local\\Temp/ipykernel_15500/3185543972.py\"\u001b[1;36m, line \u001b[1;32m4\u001b[0m\n\u001b[1;33m    temperatures = # an array of length equal to the locations array length\u001b[0m\n\u001b[1;37m                                                                           ^\u001b[0m\n\u001b[1;31mSyntaxError\u001b[0m\u001b[1;31m:\u001b[0m invalid syntax\n"
     ]
    }
   ],
   "source": [
    "# 1. Assign the locations to an array of latitude and longitude pairs.\n",
    "locations = [latitude, longitude]\n",
    "# 2. Assign the weights variable to some values.\n",
    "temperatures = # an array of length equal to the locations array length\n",
    "# 3. Assign the figure variable to the gmaps.figure() attribute.\n",
    "fig = gmaps.figure()\n",
    "# 4. Assign the heatmap_layer variable to the heatmap_layer attribute and add in the locations.\n",
    "heatmap_layer = gmaps.heatmap_layer(locations, weights=temperatures)\n",
    "\n",
    "# 5. Add the heatmap layer.\n",
    "fig.add_layer(heatmap_layer)\n",
    "# 6. Call the figure to plot the data.\n",
    "fig"
   ]
  },
  {
   "cell_type": "code",
   "execution_count": null,
   "id": "2e9e94ed",
   "metadata": {},
   "outputs": [],
   "source": []
  }
 ],
 "metadata": {
  "kernelspec": {
   "display_name": "PythonData",
   "language": "python",
   "name": "pythondata"
  },
  "language_info": {
   "codemirror_mode": {
    "name": "ipython",
    "version": 3
   },
   "file_extension": ".py",
   "mimetype": "text/x-python",
   "name": "python",
   "nbconvert_exporter": "python",
   "pygments_lexer": "ipython3",
   "version": "3.7.11"
  }
 },
 "nbformat": 4,
 "nbformat_minor": 5
}
